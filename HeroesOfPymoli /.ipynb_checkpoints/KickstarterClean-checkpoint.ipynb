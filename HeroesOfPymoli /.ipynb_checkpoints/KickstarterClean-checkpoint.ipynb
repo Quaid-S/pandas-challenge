{
 "cells": [
  {
   "cell_type": "code",
   "execution_count": 2,
   "metadata": {},
   "outputs": [],
   "source": [
    "import pandas as pd"
   ]
  },
  {
   "cell_type": "code",
   "execution_count": 6,
   "metadata": {},
   "outputs": [
    {
     "data": {
      "text/plain": [
       "(4120, 33)"
      ]
     },
     "execution_count": 6,
     "metadata": {},
     "output_type": "execute_result"
    }
   ],
   "source": [
    "# The path to our CSV file\n",
    "file = 'Resources/KickstarterData.csv'\n",
    "\n",
    "# Read our Kickstarter data into pandas\n",
    "df = pd.read_csv(file)\n",
    "df.head()\n",
    "df.shape"
   ]
  },
  {
   "cell_type": "code",
   "execution_count": 8,
   "metadata": {},
   "outputs": [
    {
     "data": {
      "text/plain": [
       "Index(['id', 'photo', 'name', 'blurb', 'goal', 'pledged', 'state', 'slug',\n",
       "       'disable_communication', 'country', 'currency', 'currency_symbol',\n",
       "       'currency_trailing_code', 'deadline', 'state_changed_at', 'created_at',\n",
       "       'launched_at', 'staff_pick', 'is_starrable', 'backers_count',\n",
       "       'static_usd_rate', 'usd_pledged', 'creator', 'location', 'category',\n",
       "       'profile', 'spotlight', 'urls', 'source_url', 'friends', 'is_starred',\n",
       "       'is_backing', 'permissions'],\n",
       "      dtype='object')"
      ]
     },
     "execution_count": 8,
     "metadata": {},
     "output_type": "execute_result"
    }
   ],
   "source": [
    "# Get a list of all of our columns for easy reference\n",
    "df.columns"
   ]
  },
  {
   "cell_type": "code",
   "execution_count": 13,
   "metadata": {
    "scrolled": true
   },
   "outputs": [
    {
     "data": {
      "text/html": [
       "<div>\n",
       "<style scoped>\n",
       "    .dataframe tbody tr th:only-of-type {\n",
       "        vertical-align: middle;\n",
       "    }\n",
       "\n",
       "    .dataframe tbody tr th {\n",
       "        vertical-align: top;\n",
       "    }\n",
       "\n",
       "    .dataframe thead th {\n",
       "        text-align: right;\n",
       "    }\n",
       "</style>\n",
       "<table border=\"1\" class=\"dataframe\">\n",
       "  <thead>\n",
       "    <tr style=\"text-align: right;\">\n",
       "      <th></th>\n",
       "      <th>name</th>\n",
       "      <th>goal</th>\n",
       "      <th>pledged</th>\n",
       "      <th>state</th>\n",
       "      <th>country</th>\n",
       "      <th>staff_pick</th>\n",
       "      <th>backers_count</th>\n",
       "      <th>spotlight</th>\n",
       "    </tr>\n",
       "  </thead>\n",
       "  <tbody>\n",
       "    <tr>\n",
       "      <th>0</th>\n",
       "      <td>The Class Act Players Theatre Company Presents...</td>\n",
       "      <td>1500.0</td>\n",
       "      <td>2925.0</td>\n",
       "      <td>successful</td>\n",
       "      <td>US</td>\n",
       "      <td>False</td>\n",
       "      <td>17</td>\n",
       "      <td>True</td>\n",
       "    </tr>\n",
       "    <tr>\n",
       "      <th>1</th>\n",
       "      <td>MR INCREDIBLE by Camilla Whitehill - VAULT Fes...</td>\n",
       "      <td>2500.0</td>\n",
       "      <td>2936.0</td>\n",
       "      <td>successful</td>\n",
       "      <td>GB</td>\n",
       "      <td>True</td>\n",
       "      <td>15</td>\n",
       "      <td>True</td>\n",
       "    </tr>\n",
       "    <tr>\n",
       "      <th>2</th>\n",
       "      <td>RUN</td>\n",
       "      <td>1000.0</td>\n",
       "      <td>1200.0</td>\n",
       "      <td>successful</td>\n",
       "      <td>GB</td>\n",
       "      <td>False</td>\n",
       "      <td>30</td>\n",
       "      <td>True</td>\n",
       "    </tr>\n",
       "    <tr>\n",
       "      <th>3</th>\n",
       "      <td>9th International Meeting of Youth Theatre sap...</td>\n",
       "      <td>2000.0</td>\n",
       "      <td>2135.0</td>\n",
       "      <td>successful</td>\n",
       "      <td>IT</td>\n",
       "      <td>False</td>\n",
       "      <td>24</td>\n",
       "      <td>True</td>\n",
       "    </tr>\n",
       "    <tr>\n",
       "      <th>4</th>\n",
       "      <td>Get Conti to the Ed Fringe!</td>\n",
       "      <td>1000.0</td>\n",
       "      <td>1250.0</td>\n",
       "      <td>successful</td>\n",
       "      <td>GB</td>\n",
       "      <td>False</td>\n",
       "      <td>28</td>\n",
       "      <td>True</td>\n",
       "    </tr>\n",
       "  </tbody>\n",
       "</table>\n",
       "</div>"
      ],
      "text/plain": [
       "                                                name    goal  pledged  \\\n",
       "0  The Class Act Players Theatre Company Presents...  1500.0   2925.0   \n",
       "1  MR INCREDIBLE by Camilla Whitehill - VAULT Fes...  2500.0   2936.0   \n",
       "2                                                RUN  1000.0   1200.0   \n",
       "3  9th International Meeting of Youth Theatre sap...  2000.0   2135.0   \n",
       "4                        Get Conti to the Ed Fringe!  1000.0   1250.0   \n",
       "\n",
       "        state country  staff_pick  backers_count  spotlight  \n",
       "0  successful      US       False             17       True  \n",
       "1  successful      GB        True             15       True  \n",
       "2  successful      GB       False             30       True  \n",
       "3  successful      IT       False             24       True  \n",
       "4  successful      GB       False             28       True  "
      ]
     },
     "execution_count": 13,
     "metadata": {},
     "output_type": "execute_result"
    }
   ],
   "source": [
    "# Extract \"name\", \"goal\", \"pledged\", \"state\", \"country\", \"staff_pick\",\n",
    "# \"backers_count\", and \"spotlight\"\n",
    "good_columns = [\"name\", \"goal\", \"pledged\", \"state\", \"country\", \"staff_pick\", \"backers_count\", \"spotlight\"]\n",
    "reduced_kickstarter_df = df.loc[:,good_columns]\n",
    "reduced_kickstarter_df = df[good_columns]\n",
    "reduced_kickstarter_df.head()"
   ]
  },
  {
   "cell_type": "code",
   "execution_count": 12,
   "metadata": {},
   "outputs": [
    {
     "data": {
      "text/plain": [
       "(4120, 8)"
      ]
     },
     "execution_count": 12,
     "metadata": {},
     "output_type": "execute_result"
    }
   ],
   "source": [
    "reduced_kickstarter_df.columns\n",
    "#reduced_kickstarter_df.shape"
   ]
  },
  {
   "cell_type": "code",
   "execution_count": 16,
   "metadata": {
    "scrolled": true
   },
   "outputs": [
    {
     "data": {
      "text/plain": [
       "1.0"
      ]
     },
     "execution_count": 16,
     "metadata": {},
     "output_type": "execute_result"
    }
   ],
   "source": [
    "# Remove projects that made no money at all\n",
    "reduced_kickstarter_df = reduced_kickstarter_df.loc[reduced_kickstarter_df['pledged']!=0,:]\n",
    "reduced_kickstarter_df.head()\n",
    "reduced_kickstarter_df['pledged'].min()"
   ]
  },
  {
   "cell_type": "code",
   "execution_count": 18,
   "metadata": {
    "collapsed": true
   },
   "outputs": [
    {
     "data": {
      "text/plain": [
       "US    2129\n",
       "GB     631\n",
       "CA     146\n",
       "AU     114\n",
       "DE      43\n",
       "NL      35\n",
       "ES      25\n",
       "MX      24\n",
       "FR      23\n",
       "IT      21\n",
       "DK      20\n",
       "IE      18\n",
       "SE      16\n",
       "NZ      12\n",
       "CH      12\n",
       "NO      11\n",
       "BE      10\n",
       "AT       7\n",
       "SG       6\n",
       "HK       3\n",
       "LU       1\n",
       "Name: country, dtype: int64"
      ]
     },
     "execution_count": 18,
     "metadata": {},
     "output_type": "execute_result"
    }
   ],
   "source": [
    "reduced_kickstarter_df['country'].value_counts()"
   ]
  },
  {
   "cell_type": "code",
   "execution_count": 38,
   "metadata": {
    "scrolled": true
   },
   "outputs": [
    {
     "data": {
      "text/html": [
       "<div>\n",
       "<style scoped>\n",
       "    .dataframe tbody tr th:only-of-type {\n",
       "        vertical-align: middle;\n",
       "    }\n",
       "\n",
       "    .dataframe tbody tr th {\n",
       "        vertical-align: top;\n",
       "    }\n",
       "\n",
       "    .dataframe thead th {\n",
       "        text-align: right;\n",
       "    }\n",
       "</style>\n",
       "<table border=\"1\" class=\"dataframe\">\n",
       "  <thead>\n",
       "    <tr style=\"text-align: right;\">\n",
       "      <th></th>\n",
       "      <th>name</th>\n",
       "      <th>goal</th>\n",
       "      <th>pledged</th>\n",
       "      <th>state</th>\n",
       "      <th>country</th>\n",
       "      <th>staff_pick</th>\n",
       "      <th>backers_count</th>\n",
       "      <th>spotlight</th>\n",
       "      <th>average_donation</th>\n",
       "    </tr>\n",
       "  </thead>\n",
       "  <tbody>\n",
       "    <tr>\n",
       "      <th>0</th>\n",
       "      <td>The Class Act Players Theatre Company Presents...</td>\n",
       "      <td>1500.0</td>\n",
       "      <td>2925.0</td>\n",
       "      <td>successful</td>\n",
       "      <td>US</td>\n",
       "      <td>False</td>\n",
       "      <td>17</td>\n",
       "      <td>True</td>\n",
       "      <td>172.058824</td>\n",
       "    </tr>\n",
       "    <tr>\n",
       "      <th>8</th>\n",
       "      <td>Forefront Festival 2015</td>\n",
       "      <td>7200.0</td>\n",
       "      <td>7230.0</td>\n",
       "      <td>successful</td>\n",
       "      <td>US</td>\n",
       "      <td>False</td>\n",
       "      <td>68</td>\n",
       "      <td>True</td>\n",
       "      <td>106.323529</td>\n",
       "    </tr>\n",
       "    <tr>\n",
       "      <th>11</th>\n",
       "      <td>Hamlet the Hip-Hopera</td>\n",
       "      <td>9747.0</td>\n",
       "      <td>10103.0</td>\n",
       "      <td>successful</td>\n",
       "      <td>US</td>\n",
       "      <td>True</td>\n",
       "      <td>132</td>\n",
       "      <td>True</td>\n",
       "      <td>76.537879</td>\n",
       "    </tr>\n",
       "    <tr>\n",
       "      <th>14</th>\n",
       "      <td>Pride Con</td>\n",
       "      <td>15000.0</td>\n",
       "      <td>15110.0</td>\n",
       "      <td>successful</td>\n",
       "      <td>US</td>\n",
       "      <td>False</td>\n",
       "      <td>60</td>\n",
       "      <td>True</td>\n",
       "      <td>251.833333</td>\n",
       "    </tr>\n",
       "    <tr>\n",
       "      <th>15</th>\n",
       "      <td>En Garde Arts Emerging Artists Festival BOSSS</td>\n",
       "      <td>10000.0</td>\n",
       "      <td>10306.0</td>\n",
       "      <td>successful</td>\n",
       "      <td>US</td>\n",
       "      <td>True</td>\n",
       "      <td>80</td>\n",
       "      <td>True</td>\n",
       "      <td>128.825000</td>\n",
       "    </tr>\n",
       "  </tbody>\n",
       "</table>\n",
       "</div>"
      ],
      "text/plain": [
       "                                                 name     goal  pledged  \\\n",
       "0   The Class Act Players Theatre Company Presents...   1500.0   2925.0   \n",
       "8                             Forefront Festival 2015   7200.0   7230.0   \n",
       "11                              Hamlet the Hip-Hopera   9747.0  10103.0   \n",
       "14                                          Pride Con  15000.0  15110.0   \n",
       "15      En Garde Arts Emerging Artists Festival BOSSS  10000.0  10306.0   \n",
       "\n",
       "         state country  staff_pick  backers_count  spotlight  average_donation  \n",
       "0   successful      US       False             17       True        172.058824  \n",
       "8   successful      US       False             68       True        106.323529  \n",
       "11  successful      US        True            132       True         76.537879  \n",
       "14  successful      US       False             60       True        251.833333  \n",
       "15  successful      US        True             80       True        128.825000  "
      ]
     },
     "execution_count": 38,
     "metadata": {},
     "output_type": "execute_result"
    }
   ],
   "source": [
    "# Collect only those projects that were hosted in the US\n",
    "# Create a list of the columns\n",
    "# Create a new df for \"US\" with the columns above. \n",
    "hosted_in_us = reduced_kickstarter_df.loc[reduced_kickstarter_df['country']=='US']\n",
    "hosted_in_us.head()"
   ]
  },
  {
   "cell_type": "code",
   "execution_count": 39,
   "metadata": {},
   "outputs": [
    {
     "name": "stderr",
     "output_type": "stream",
     "text": [
      "/Users/mflynn/anaconda3/lib/python3.7/site-packages/ipykernel_launcher.py:3: SettingWithCopyWarning: \n",
      "A value is trying to be set on a copy of a slice from a DataFrame.\n",
      "Try using .loc[row_indexer,col_indexer] = value instead\n",
      "\n",
      "See the caveats in the documentation: http://pandas.pydata.org/pandas-docs/stable/indexing.html#indexing-view-versus-copy\n",
      "  This is separate from the ipykernel package so we can avoid doing imports until\n"
     ]
    },
    {
     "data": {
      "text/html": [
       "<div>\n",
       "<style scoped>\n",
       "    .dataframe tbody tr th:only-of-type {\n",
       "        vertical-align: middle;\n",
       "    }\n",
       "\n",
       "    .dataframe tbody tr th {\n",
       "        vertical-align: top;\n",
       "    }\n",
       "\n",
       "    .dataframe thead th {\n",
       "        text-align: right;\n",
       "    }\n",
       "</style>\n",
       "<table border=\"1\" class=\"dataframe\">\n",
       "  <thead>\n",
       "    <tr style=\"text-align: right;\">\n",
       "      <th></th>\n",
       "      <th>name</th>\n",
       "      <th>goal</th>\n",
       "      <th>pledged</th>\n",
       "      <th>state</th>\n",
       "      <th>country</th>\n",
       "      <th>staff_pick</th>\n",
       "      <th>backers_count</th>\n",
       "      <th>spotlight</th>\n",
       "      <th>average_donation</th>\n",
       "    </tr>\n",
       "  </thead>\n",
       "  <tbody>\n",
       "    <tr>\n",
       "      <th>0</th>\n",
       "      <td>The Class Act Players Theatre Company Presents...</td>\n",
       "      <td>1500.0</td>\n",
       "      <td>2925.0</td>\n",
       "      <td>successful</td>\n",
       "      <td>US</td>\n",
       "      <td>False</td>\n",
       "      <td>17</td>\n",
       "      <td>True</td>\n",
       "      <td>172.058824</td>\n",
       "    </tr>\n",
       "    <tr>\n",
       "      <th>8</th>\n",
       "      <td>Forefront Festival 2015</td>\n",
       "      <td>7200.0</td>\n",
       "      <td>7230.0</td>\n",
       "      <td>successful</td>\n",
       "      <td>US</td>\n",
       "      <td>False</td>\n",
       "      <td>68</td>\n",
       "      <td>True</td>\n",
       "      <td>106.323529</td>\n",
       "    </tr>\n",
       "    <tr>\n",
       "      <th>11</th>\n",
       "      <td>Hamlet the Hip-Hopera</td>\n",
       "      <td>9747.0</td>\n",
       "      <td>10103.0</td>\n",
       "      <td>successful</td>\n",
       "      <td>US</td>\n",
       "      <td>True</td>\n",
       "      <td>132</td>\n",
       "      <td>True</td>\n",
       "      <td>76.537879</td>\n",
       "    </tr>\n",
       "    <tr>\n",
       "      <th>14</th>\n",
       "      <td>Pride Con</td>\n",
       "      <td>15000.0</td>\n",
       "      <td>15110.0</td>\n",
       "      <td>successful</td>\n",
       "      <td>US</td>\n",
       "      <td>False</td>\n",
       "      <td>60</td>\n",
       "      <td>True</td>\n",
       "      <td>251.833333</td>\n",
       "    </tr>\n",
       "    <tr>\n",
       "      <th>15</th>\n",
       "      <td>En Garde Arts Emerging Artists Festival BOSSS</td>\n",
       "      <td>10000.0</td>\n",
       "      <td>10306.0</td>\n",
       "      <td>successful</td>\n",
       "      <td>US</td>\n",
       "      <td>True</td>\n",
       "      <td>80</td>\n",
       "      <td>True</td>\n",
       "      <td>128.825000</td>\n",
       "    </tr>\n",
       "  </tbody>\n",
       "</table>\n",
       "</div>"
      ],
      "text/plain": [
       "                                                 name     goal  pledged  \\\n",
       "0   The Class Act Players Theatre Company Presents...   1500.0   2925.0   \n",
       "8                             Forefront Festival 2015   7200.0   7230.0   \n",
       "11                              Hamlet the Hip-Hopera   9747.0  10103.0   \n",
       "14                                          Pride Con  15000.0  15110.0   \n",
       "15      En Garde Arts Emerging Artists Festival BOSSS  10000.0  10306.0   \n",
       "\n",
       "         state country  staff_pick  backers_count  spotlight  average_donation  \n",
       "0   successful      US       False             17       True        172.058824  \n",
       "8   successful      US       False             68       True        106.323529  \n",
       "11  successful      US        True            132       True         76.537879  \n",
       "14  successful      US       False             60       True        251.833333  \n",
       "15  successful      US        True             80       True        128.825000  "
      ]
     },
     "execution_count": 39,
     "metadata": {},
     "output_type": "execute_result"
    }
   ],
   "source": [
    "# Create a new column that finds the average amount pledged to a project\n",
    "average_donation = hosted_in_us['pledged'] / hosted_in_us['backers_count']\n",
    "hosted_in_us['average_donation'] = average_donation\n",
    "hosted_in_us.head()"
   ]
  },
  {
   "cell_type": "code",
   "execution_count": 40,
   "metadata": {},
   "outputs": [
    {
     "name": "stderr",
     "output_type": "stream",
     "text": [
      "/Users/mflynn/anaconda3/lib/python3.7/site-packages/ipykernel_launcher.py:6: SettingWithCopyWarning: \n",
      "A value is trying to be set on a copy of a slice from a DataFrame.\n",
      "Try using .loc[row_indexer,col_indexer] = value instead\n",
      "\n",
      "See the caveats in the documentation: http://pandas.pydata.org/pandas-docs/stable/indexing.html#indexing-view-versus-copy\n",
      "  \n",
      "/Users/mflynn/anaconda3/lib/python3.7/site-packages/ipykernel_launcher.py:7: SettingWithCopyWarning: \n",
      "A value is trying to be set on a copy of a slice from a DataFrame.\n",
      "Try using .loc[row_indexer,col_indexer] = value instead\n",
      "\n",
      "See the caveats in the documentation: http://pandas.pydata.org/pandas-docs/stable/indexing.html#indexing-view-versus-copy\n",
      "  import sys\n",
      "/Users/mflynn/anaconda3/lib/python3.7/site-packages/ipykernel_launcher.py:8: SettingWithCopyWarning: \n",
      "A value is trying to be set on a copy of a slice from a DataFrame.\n",
      "Try using .loc[row_indexer,col_indexer] = value instead\n",
      "\n",
      "See the caveats in the documentation: http://pandas.pydata.org/pandas-docs/stable/indexing.html#indexing-view-versus-copy\n",
      "  \n"
     ]
    },
    {
     "data": {
      "text/html": [
       "<div>\n",
       "<style scoped>\n",
       "    .dataframe tbody tr th:only-of-type {\n",
       "        vertical-align: middle;\n",
       "    }\n",
       "\n",
       "    .dataframe tbody tr th {\n",
       "        vertical-align: top;\n",
       "    }\n",
       "\n",
       "    .dataframe thead th {\n",
       "        text-align: right;\n",
       "    }\n",
       "</style>\n",
       "<table border=\"1\" class=\"dataframe\">\n",
       "  <thead>\n",
       "    <tr style=\"text-align: right;\">\n",
       "      <th></th>\n",
       "      <th>name</th>\n",
       "      <th>goal</th>\n",
       "      <th>pledged</th>\n",
       "      <th>state</th>\n",
       "      <th>country</th>\n",
       "      <th>staff_pick</th>\n",
       "      <th>backers_count</th>\n",
       "      <th>spotlight</th>\n",
       "      <th>average_donation</th>\n",
       "    </tr>\n",
       "  </thead>\n",
       "  <tbody>\n",
       "    <tr>\n",
       "      <th>0</th>\n",
       "      <td>The Class Act Players Theatre Company Presents...</td>\n",
       "      <td>$1500.00</td>\n",
       "      <td>$2925.00</td>\n",
       "      <td>successful</td>\n",
       "      <td>US</td>\n",
       "      <td>False</td>\n",
       "      <td>17</td>\n",
       "      <td>True</td>\n",
       "      <td>$172.06</td>\n",
       "    </tr>\n",
       "    <tr>\n",
       "      <th>8</th>\n",
       "      <td>Forefront Festival 2015</td>\n",
       "      <td>$7200.00</td>\n",
       "      <td>$7230.00</td>\n",
       "      <td>successful</td>\n",
       "      <td>US</td>\n",
       "      <td>False</td>\n",
       "      <td>68</td>\n",
       "      <td>True</td>\n",
       "      <td>$106.32</td>\n",
       "    </tr>\n",
       "    <tr>\n",
       "      <th>11</th>\n",
       "      <td>Hamlet the Hip-Hopera</td>\n",
       "      <td>$9747.00</td>\n",
       "      <td>$10103.00</td>\n",
       "      <td>successful</td>\n",
       "      <td>US</td>\n",
       "      <td>True</td>\n",
       "      <td>132</td>\n",
       "      <td>True</td>\n",
       "      <td>$76.54</td>\n",
       "    </tr>\n",
       "    <tr>\n",
       "      <th>14</th>\n",
       "      <td>Pride Con</td>\n",
       "      <td>$15000.00</td>\n",
       "      <td>$15110.00</td>\n",
       "      <td>successful</td>\n",
       "      <td>US</td>\n",
       "      <td>False</td>\n",
       "      <td>60</td>\n",
       "      <td>True</td>\n",
       "      <td>$251.83</td>\n",
       "    </tr>\n",
       "    <tr>\n",
       "      <th>15</th>\n",
       "      <td>En Garde Arts Emerging Artists Festival BOSSS</td>\n",
       "      <td>$10000.00</td>\n",
       "      <td>$10306.00</td>\n",
       "      <td>successful</td>\n",
       "      <td>US</td>\n",
       "      <td>True</td>\n",
       "      <td>80</td>\n",
       "      <td>True</td>\n",
       "      <td>$128.82</td>\n",
       "    </tr>\n",
       "  </tbody>\n",
       "</table>\n",
       "</div>"
      ],
      "text/plain": [
       "                                                 name       goal    pledged  \\\n",
       "0   The Class Act Players Theatre Company Presents...   $1500.00   $2925.00   \n",
       "8                             Forefront Festival 2015   $7200.00   $7230.00   \n",
       "11                              Hamlet the Hip-Hopera   $9747.00  $10103.00   \n",
       "14                                          Pride Con  $15000.00  $15110.00   \n",
       "15      En Garde Arts Emerging Artists Festival BOSSS  $10000.00  $10306.00   \n",
       "\n",
       "         state country  staff_pick  backers_count  spotlight average_donation  \n",
       "0   successful      US       False             17       True          $172.06  \n",
       "8   successful      US       False             68       True          $106.32  \n",
       "11  successful      US        True            132       True           $76.54  \n",
       "14  successful      US       False             60       True          $251.83  \n",
       "15  successful      US        True             80       True          $128.82  "
      ]
     },
     "execution_count": 40,
     "metadata": {},
     "output_type": "execute_result"
    }
   ],
   "source": [
    "# First convert \"average_donation\", \"goal\", and \"pledged\" columns to float\n",
    "# Then Format to go to two decimal places, include a dollar sign, and use comma notation\n",
    "#hosted_in_us.columns\n",
    "#hosted_in_us[['average_donation','goal', 'pledged']].astype(\"float\")\n",
    "#hosted_in_us['average_donation'] = hosted_in_us['average_donation'].astype('float')\n",
    "hosted_in_us['average_donation'] = hosted_in_us['average_donation'].map(\"${:.2f}\".format)\n",
    "hosted_in_us['goal'] = hosted_in_us['goal'].map(\"${:.2f}\".format)\n",
    "hosted_in_us['pledged'] = hosted_in_us['pledged'].map(\"${:.2f}\".format)\n",
    "hosted_in_us.head()"
   ]
  },
  {
   "cell_type": "code",
   "execution_count": 41,
   "metadata": {},
   "outputs": [
    {
     "data": {
      "text/plain": [
       "89273"
      ]
     },
     "execution_count": 41,
     "metadata": {},
     "output_type": "execute_result"
    }
   ],
   "source": [
    "# Calculate the total number of backers for all US projects\n",
    "hosted_in_us['backers_count'].sum()"
   ]
  },
  {
   "cell_type": "code",
   "execution_count": 42,
   "metadata": {},
   "outputs": [
    {
     "data": {
      "text/plain": [
       "41.931892907468296"
      ]
     },
     "execution_count": 42,
     "metadata": {},
     "output_type": "execute_result"
    }
   ],
   "source": [
    "# Calculate the average number of backers for all US projects\n",
    "hosted_in_us['backers_count'].mean()"
   ]
  },
  {
   "cell_type": "code",
   "execution_count": 46,
   "metadata": {
    "scrolled": true
   },
   "outputs": [],
   "source": [
    "# Collect only those US campaigns that have been picked as a \"Staff Pick\"\n",
    "picked_by_staff = hosted_in_us[hosted_in_us['staff_pick']]"
   ]
  },
  {
   "cell_type": "code",
   "execution_count": 48,
   "metadata": {},
   "outputs": [
    {
     "data": {
      "text/plain": [
       "state\n",
       "canceled        6\n",
       "failed         21\n",
       "live            2\n",
       "successful    145\n",
       "Name: name, dtype: int64"
      ]
     },
     "execution_count": 48,
     "metadata": {},
     "output_type": "execute_result"
    }
   ],
   "source": [
    "# Group by the state of the campaigns and see if staff picks matter (Seems to matter quite a bit)\n",
    "picked_by_staff.groupby('state')['name'].count()"
   ]
  },
  {
   "cell_type": "code",
   "execution_count": 49,
   "metadata": {},
   "outputs": [
    {
     "data": {
      "text/html": [
       "<div>\n",
       "<style scoped>\n",
       "    .dataframe tbody tr th:only-of-type {\n",
       "        vertical-align: middle;\n",
       "    }\n",
       "\n",
       "    .dataframe tbody tr th {\n",
       "        vertical-align: top;\n",
       "    }\n",
       "\n",
       "    .dataframe thead th {\n",
       "        text-align: right;\n",
       "    }\n",
       "</style>\n",
       "<table border=\"1\" class=\"dataframe\">\n",
       "  <thead>\n",
       "    <tr style=\"text-align: right;\">\n",
       "      <th></th>\n",
       "      <th>name</th>\n",
       "      <th>goal</th>\n",
       "      <th>pledged</th>\n",
       "      <th>country</th>\n",
       "      <th>staff_pick</th>\n",
       "      <th>backers_count</th>\n",
       "      <th>spotlight</th>\n",
       "      <th>average_donation</th>\n",
       "    </tr>\n",
       "    <tr>\n",
       "      <th>state</th>\n",
       "      <th></th>\n",
       "      <th></th>\n",
       "      <th></th>\n",
       "      <th></th>\n",
       "      <th></th>\n",
       "      <th></th>\n",
       "      <th></th>\n",
       "      <th></th>\n",
       "    </tr>\n",
       "  </thead>\n",
       "  <tbody>\n",
       "    <tr>\n",
       "      <th>canceled</th>\n",
       "      <td>6</td>\n",
       "      <td>6</td>\n",
       "      <td>6</td>\n",
       "      <td>6</td>\n",
       "      <td>6</td>\n",
       "      <td>6</td>\n",
       "      <td>6</td>\n",
       "      <td>6</td>\n",
       "    </tr>\n",
       "    <tr>\n",
       "      <th>failed</th>\n",
       "      <td>21</td>\n",
       "      <td>21</td>\n",
       "      <td>21</td>\n",
       "      <td>21</td>\n",
       "      <td>21</td>\n",
       "      <td>21</td>\n",
       "      <td>21</td>\n",
       "      <td>21</td>\n",
       "    </tr>\n",
       "    <tr>\n",
       "      <th>live</th>\n",
       "      <td>2</td>\n",
       "      <td>2</td>\n",
       "      <td>2</td>\n",
       "      <td>2</td>\n",
       "      <td>2</td>\n",
       "      <td>2</td>\n",
       "      <td>2</td>\n",
       "      <td>2</td>\n",
       "    </tr>\n",
       "    <tr>\n",
       "      <th>successful</th>\n",
       "      <td>145</td>\n",
       "      <td>145</td>\n",
       "      <td>145</td>\n",
       "      <td>145</td>\n",
       "      <td>145</td>\n",
       "      <td>145</td>\n",
       "      <td>145</td>\n",
       "      <td>145</td>\n",
       "    </tr>\n",
       "  </tbody>\n",
       "</table>\n",
       "</div>"
      ],
      "text/plain": [
       "            name  goal  pledged  country  staff_pick  backers_count  \\\n",
       "state                                                                 \n",
       "canceled       6     6        6        6           6              6   \n",
       "failed        21    21       21       21          21             21   \n",
       "live           2     2        2        2           2              2   \n",
       "successful   145   145      145      145         145            145   \n",
       "\n",
       "            spotlight  average_donation  \n",
       "state                                    \n",
       "canceled            6                 6  \n",
       "failed             21                21  \n",
       "live                2                 2  \n",
       "successful        145               145  "
      ]
     },
     "execution_count": 49,
     "metadata": {},
     "output_type": "execute_result"
    }
   ],
   "source": [
    "picked_by_staff.groupby('state').count()"
   ]
  },
  {
   "cell_type": "code",
   "execution_count": null,
   "metadata": {},
   "outputs": [],
   "source": []
  }
 ],
 "metadata": {
  "kernelspec": {
   "display_name": "Python 3",
   "language": "python",
   "name": "python3"
  },
  "language_info": {
   "codemirror_mode": {
    "name": "ipython",
    "version": 3
   },
   "file_extension": ".py",
   "mimetype": "text/x-python",
   "name": "python",
   "nbconvert_exporter": "python",
   "pygments_lexer": "ipython3",
   "version": "3.6.9"
  }
 },
 "nbformat": 4,
 "nbformat_minor": 2
}
